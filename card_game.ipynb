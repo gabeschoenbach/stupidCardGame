{
 "cells": [
  {
   "cell_type": "code",
   "execution_count": 123,
   "metadata": {},
   "outputs": [],
   "source": [
    "suits = [\"Spades\", \"Clubs\", \"Diamonds\", \"Hearts\"]\n",
    "values = [\"2\", \"3\", \"4\", \"5\", \"6\", \"7\", \"8\", \"9\", \"10\", \"Jack\", \"Queen\", \"King\", \"Ace\"]\n",
    "\n",
    "import random\n",
    "from scipy import stats\n",
    "import matplotlib.pyplot as plt\n",
    "import seaborn as sns\n",
    "import numpy as np\n",
    "import pandas as pd\n",
    "\n",
    "class Card:\n",
    "    def __init__(self, val, suit):\n",
    "        self.value = val\n",
    "        self.suit = suit\n",
    "    \n",
    "    def show(self):\n",
    "        print(\"{} of {}\".format(self.value, self.suit))\n",
    "    \n",
    "class Deck:\n",
    "    def __init__(self):\n",
    "        self.cards = []\n",
    "        self.build()\n",
    "        \n",
    "    def build(self):\n",
    "        for s in suits:\n",
    "            for v in values:\n",
    "                self.cards.append(Card(v,s))\n",
    "                \n",
    "    def shuffle(self):\n",
    "        for i in range(len(self.cards)-1, 0, -1):\n",
    "            r = random.randint(0,i)\n",
    "            self.cards[i], self.cards[r] = self.cards[r], self.cards[i]\n",
    "            \n",
    "    def drawCard(self):\n",
    "        x = self.cards.pop()\n",
    "        return x\n",
    "            \n",
    "    def show(self):\n",
    "        for c in self.cards:\n",
    "            c.show()\n",
    "\n",
    "class Player:\n",
    "    def __init__(self):\n",
    "        pass\n",
    "        "
   ]
  },
  {
   "cell_type": "code",
   "execution_count": 4,
   "metadata": {},
   "outputs": [],
   "source": [
    "# Comparison and Guessing Functions\n",
    "def compareValue(guess, card):\n",
    "    if (guess == card.value):\n",
    "        return 1\n",
    "    else:\n",
    "        return 0\n",
    "    \n",
    "def bestGuess(cards_seen):\n",
    "    min_val = min(cards_seen.values())\n",
    "    bestCards = [key for key in cards_seen if cards_seen[key] == min_val]\n",
    "    return bestCards[0]\n",
    "\n",
    "def constantGuess(cards_seen):\n",
    "    return \"2\"\n",
    "\n",
    "def randomGuess(cards_seen):\n",
    "    size = len(cards_seen)\n",
    "    idx = random.randint(0,size-1)\n",
    "    return Card(values[idx], \"Spades\").value\n",
    "\n",
    "def realisticGuess(cards_seen):\n",
    "    while cards_seen[\"2\"] < 4:\n",
    "        return constantGuess(cards_seen)\n",
    "    idx = random.randint(1,12)\n",
    "    return Card(values[idx], \"Spades\").value\n",
    "\n",
    "def cardsDone(cards_seen):\n",
    "    return all([value == 4 for value in cards_seen.values()])\n",
    "\n",
    "    \n",
    "def smartGuess(cards_seen, focusNum):\n",
    "    focus_cards = {}\n",
    "    unfocus_cards = {}\n",
    "    for (key, value) in cards_seen.items():\n",
    "        if any([key == num for num in values[:focusNum]]):\n",
    "#             print(\"the values we're focusing on: \", values[:focusNum])\n",
    "            focus_cards[key] = value\n",
    "#             print('focus_cards are ', focus_cards)\n",
    "        else:\n",
    "            unfocus_cards[key] = value\n",
    "    if (not cardsDone(focus_cards)):\n",
    "#         print('focus_cards are NOW ', focus_cards)\n",
    "        return bestGuess(focus_cards)\n",
    "#         print('now')\n",
    "    else:\n",
    "        return randomGuess(unfocus_cards)\n",
    "\n",
    "def summarize(technique, data):\n",
    "    m = min(data)\n",
    "    M = max(data)\n",
    "    mean = np.mean(data)\n",
    "    std = np.std(data)\n",
    "    print(technique + \": \\n    (min, max) = (\"\n",
    "          + str(m) + \", \" + str(M) + \")\\n    mean = \" + str(mean) + \"\\n    std = \" + str(std))"
   ]
  },
  {
   "cell_type": "code",
   "execution_count": 97,
   "metadata": {},
   "outputs": [],
   "source": [
    "def makeTrials(trials):\n",
    "    columns = [\"focusNum\", \"mean\", \"std\", \"finalWinPct\"]\n",
    "    \n",
    "    smartData0 = runGame(trials, randomGuess, 0)\n",
    "    smartData1 = runGame(trials, smartGuess, 1)\n",
    "    smartData3 = runGame(trials, smartGuess, 3)\n",
    "    smartData5 = runGame(trials, smartGuess, 5)\n",
    "    smartData7 = runGame(trials, smartGuess, 7)\n",
    "    smartData9 = runGame(trials, smartGuess, 9)\n",
    "    smartData11 = runGame(trials, smartGuess, 11)\n",
    "    smartData13 = runGame(trials, smartGuess, 13)\n",
    "    \n",
    "    df = pd.DataFrame()\n",
    "    df = df.append(pd.Series([0, np.mean(list(smartData0[51])), np.std(list(smartData0[51])), np.mean(list(smartData0[51]))/52,], columns), ignore_index=True)\n",
    "    df = df.append(pd.Series([1, np.mean(list(smartData1[51])), np.std(list(smartData1[51])), np.mean(list(smartData1[51]))/52,], columns), ignore_index=True)\n",
    "    df = df.append(pd.Series([3, np.mean(list(smartData3[51])), np.std(list(smartData3[51])), np.mean(list(smartData3[51]))/52,], columns), ignore_index=True)\n",
    "    df = df.append(pd.Series([5, np.mean(list(smartData5[51])), np.std(list(smartData5[51])), np.mean(list(smartData5[51]))/52,], columns), ignore_index=True)\n",
    "    df = df.append(pd.Series([7, np.mean(list(smartData7[51])), np.std(list(smartData7[51])), np.mean(list(smartData7[51]))/52,], columns), ignore_index=True)\n",
    "    df = df.append(pd.Series([9, np.mean(list(smartData9[51])), np.std(list(smartData9[51])), np.mean(list(smartData9[51]))/52,], columns), ignore_index=True)\n",
    "    df = df.append(pd.Series([11, np.mean(list(smartData11[51])), np.std(list(smartData11[51])), np.mean(list(smartData11[51]))/52], columns), ignore_index=True)\n",
    "    df = df.append(pd.Series([13, np.mean(list(smartData13[51])), np.std(list(smartData13[51])), np.mean(list(smartData13[51]))/52], columns), ignore_index=True)\n",
    "    return df, smartData0, smartData1, smartData3, smartData5, smartData7, smartData9, smartData11, smartData13\n",
    "\n",
    "def runGame(trials, technique, focusNum):\n",
    "    deckSize = range(52)\n",
    "    df = pd.DataFrame(columns=deckSize)\n",
    "    \n",
    "    for i in range(trials):\n",
    "        deck = Deck()\n",
    "        deck.shuffle()\n",
    "        cards_seen = {\"2\":0, \"3\":0, \"4\":0, \"5\":0, \"6\":0,\n",
    "                      \"7\":0, \"8\":0, \"9\":0, \"10\":0, \"Jack\":0,\n",
    "                      \"Queen\":0, \"King\":0, \"Ace\":0}\n",
    "        t = 0\n",
    "        t_list = []\n",
    "\n",
    "        for j in deckSize:\n",
    "            drawnCard = deck.drawCard()\n",
    "            if technique == smartGuess:\n",
    "                guess = technique(cards_seen, focusNum)\n",
    "            else:\n",
    "                guess = technique(cards_seen)\n",
    "            score = compareValue(guess, drawnCard)\n",
    "            cards_seen[drawnCard.value] += 1\n",
    "            if score == 1:\n",
    "                t += 1\n",
    "            t_list.append(t)\n",
    "\n",
    "        df = df.append(pd.Series(t_list, index=deckSize), ignore_index=True)\n",
    "    \n",
    "    scores = list(df[51])\n",
    "    summarize(str(technique), scores)\n",
    "    \n",
    "    return df\n",
    "\n",
    "def plotHist(data, figTitle):\n",
    "    fig, ax = plt.subplots(figsize = (6,4))\n",
    "    \n",
    "    mean = data[51].mean()\n",
    "    \n",
    "    scores = data[51]\n",
    "    binNum = max(scores) - min(scores)\n",
    "    if binNum == 0:\n",
    "        binNum += 2\n",
    "    ax.hist(scores, alpha=0.7, bins=binNum, color=\"steelblue\")\n",
    "    ax.set_xticks(range(max(scores)+1))\n",
    "    ax.axvline(x=mean, color=\"darkred\", label=\"average score: \" + str(round(mean, 2)))\n",
    "    \n",
    "    ax.set_title(\"Score Distribution, Guessing Realistic\")\n",
    "    ax.set_xlabel(\"Final Score\")\n",
    "    ax.set_ylabel(\"Frequency\")\n",
    "    ax.legend()\n",
    "    fig.savefig(figTitle)\n",
    "    \n",
    "def plotManyHist(datalist, figTitle):\n",
    "    fig, ax = plt.subplots(figsize = (12,6))\n",
    "    \n",
    "    size = len(datalist)\n",
    "    scores = [] \n",
    "    for i in range(size):\n",
    "        scores.append(datalist[i][51])\n",
    "        mean = datalist[i][51].mean()\n",
    "        binNum = max(scores[i]) - min(scores[i])\n",
    "        if binNum == 0:\n",
    "            binNum += 2\n",
    "        ax.hist(scores[i], alpha=0.7, bins=binNum)\n",
    "        ax.set_xticks(range(max(scores[i])+1))\n",
    "        ax.axvline(x=mean, color=\"darkred\", label=\"average score: \" + str(round(mean, 2)))\n",
    "        ax.set_title(\"Score Distribution, Best Strategy\")\n",
    "        ax.set_xlabel(\"Final Score\")\n",
    "        ax.set_ylabel(\"Frequency\")\n",
    "        ax.grid('both')\n",
    "    \n",
    "    ax.legend()\n",
    "    fig.savefig(figTitle)\n",
    "    \n",
    "    \n",
    "def plotScores(data, title):\n",
    "    fig, lines = plt.subplots(figsize = (8, 6))\n",
    "    lines.plot(data.mean())\n",
    "    \n",
    "    \n",
    "    lines.grid('both')\n",
    "    lines.set_title(\"Average Scoring Trend, Playing the Best Strategy\")\n",
    "    lines.set_ylim(0,10)\n",
    "    lines.set_yticks(range(11))\n",
    "    lines.set_xlabel(\"# of Cards Seen\")\n",
    "    lines.set_ylabel(\"Score\")\n",
    "    fig.savefig(title)\n",
    "    \n",
    "def plotManyScores(datalist, dataTitles, title):\n",
    "    fig, lines = plt.subplots(figsize = (8, 6))\n",
    "    \n",
    "    size = len(datalist)\n",
    "    for i in [4,3,2,1,0]:\n",
    "        lines.plot(datalist[i].mean(), label=dataTitles[i])\n",
    "        lines.grid('both')\n",
    "        lines.set_title(\"Comparing Average Scoring Trends Across Guessing Strategies\")\n",
    "        lines.set_ylim(0,10)\n",
    "        lines.set_yticks(range(11))\n",
    "    \n",
    "    lines.set_xlabel(\"# of Cards Seen\")\n",
    "    lines.set_ylabel(\"Score\")\n",
    "    lines.legend(loc=\"best\")\n",
    "    fig.savefig(title)\n",
    "    \n",
    "def plotOneScore(data, title):\n",
    "    fig, lines = plt.subplots(figsize = (8, 6))\n",
    "    lines.plot(data.mean())\n",
    "    \n",
    "    top = int(max(data.mean()))\n",
    "    \n",
    "    lines.grid('both')\n",
    "    lines.set_title(\"Score Over Time, Playing the Best Strategy\")\n",
    "    lines.set_ylim(0,top)\n",
    "    lines.set_yticks(range(top + 2))\n",
    "    lines.set_xlabel(\"# of Cards Seen\")\n",
    "    lines.set_ylabel(\"Score\")\n",
    "    fig.savefig(title)"
   ]
  },
  {
   "cell_type": "code",
   "execution_count": 110,
   "metadata": {},
   "outputs": [
    {
     "name": "stdout",
     "output_type": "stream",
     "text": [
      "<function randomGuess at 0x1a0e5baae8>: \n",
      "    (min, max) = (0, 12)\n",
      "    mean = 4.0198\n",
      "    std = 1.9172396720285132\n",
      "<function smartGuess at 0x1a0e5bad08>: \n",
      "    (min, max) = (4, 12)\n",
      "    mean = 4.7369\n",
      "    std = 1.0361845347234244\n",
      "<function smartGuess at 0x1a0e5bad08>: \n",
      "    (min, max) = (4, 13)\n",
      "    mean = 6.3463\n",
      "    std = 1.3479526364082677\n",
      "<function smartGuess at 0x1a0e5bad08>: \n",
      "    (min, max) = (4, 15)\n",
      "    mean = 7.2742\n",
      "    std = 1.6079845646025337\n",
      "<function smartGuess at 0x1a0e5bad08>: \n",
      "    (min, max) = (4, 16)\n",
      "    mean = 7.9157\n",
      "    std = 1.7884052980239127\n",
      "<function smartGuess at 0x1a0e5bad08>: \n",
      "    (min, max) = (4, 17)\n",
      "    mean = 8.4524\n",
      "    std = 1.9078611689533385\n",
      "<function smartGuess at 0x1a0e5bad08>: \n",
      "    (min, max) = (4, 17)\n",
      "    mean = 8.8324\n",
      "    std = 2.02329193148196\n",
      "<function smartGuess at 0x1a0e5bad08>: \n",
      "    (min, max) = (4, 18)\n",
      "    mean = 9.2101\n",
      "    std = 2.1073580592770655\n",
      "CPU times: user 4min 58s, sys: 36.9 s, total: 5min 35s\n",
      "Wall time: 5min 57s\n"
     ]
    }
   ],
   "source": [
    "%%time\n",
    "df, smartData0, smartData1, smartData3, smartData5, smartData7, smartData9, smartData11, smartData13 = makeTrials(10000)"
   ]
  },
  {
   "cell_type": "code",
   "execution_count": 112,
   "metadata": {},
   "outputs": [
    {
     "data": {
      "text/html": [
       "<div>\n",
       "<style scoped>\n",
       "    .dataframe tbody tr th:only-of-type {\n",
       "        vertical-align: middle;\n",
       "    }\n",
       "\n",
       "    .dataframe tbody tr th {\n",
       "        vertical-align: top;\n",
       "    }\n",
       "\n",
       "    .dataframe thead th {\n",
       "        text-align: right;\n",
       "    }\n",
       "</style>\n",
       "<table border=\"1\" class=\"dataframe\">\n",
       "  <thead>\n",
       "    <tr style=\"text-align: right;\">\n",
       "      <th></th>\n",
       "      <th>finalWinPct</th>\n",
       "      <th>focusNum</th>\n",
       "      <th>mean</th>\n",
       "      <th>std</th>\n",
       "    </tr>\n",
       "  </thead>\n",
       "  <tbody>\n",
       "    <tr>\n",
       "      <th>0</th>\n",
       "      <td>0.077304</td>\n",
       "      <td>0.0</td>\n",
       "      <td>4.0198</td>\n",
       "      <td>1.917240</td>\n",
       "    </tr>\n",
       "    <tr>\n",
       "      <th>1</th>\n",
       "      <td>0.091094</td>\n",
       "      <td>1.0</td>\n",
       "      <td>4.7369</td>\n",
       "      <td>1.036185</td>\n",
       "    </tr>\n",
       "    <tr>\n",
       "      <th>2</th>\n",
       "      <td>0.122044</td>\n",
       "      <td>3.0</td>\n",
       "      <td>6.3463</td>\n",
       "      <td>1.347953</td>\n",
       "    </tr>\n",
       "    <tr>\n",
       "      <th>3</th>\n",
       "      <td>0.139888</td>\n",
       "      <td>5.0</td>\n",
       "      <td>7.2742</td>\n",
       "      <td>1.607985</td>\n",
       "    </tr>\n",
       "    <tr>\n",
       "      <th>4</th>\n",
       "      <td>0.152225</td>\n",
       "      <td>7.0</td>\n",
       "      <td>7.9157</td>\n",
       "      <td>1.788405</td>\n",
       "    </tr>\n",
       "    <tr>\n",
       "      <th>5</th>\n",
       "      <td>0.162546</td>\n",
       "      <td>9.0</td>\n",
       "      <td>8.4524</td>\n",
       "      <td>1.907861</td>\n",
       "    </tr>\n",
       "    <tr>\n",
       "      <th>6</th>\n",
       "      <td>0.169854</td>\n",
       "      <td>11.0</td>\n",
       "      <td>8.8324</td>\n",
       "      <td>2.023292</td>\n",
       "    </tr>\n",
       "    <tr>\n",
       "      <th>7</th>\n",
       "      <td>0.177117</td>\n",
       "      <td>13.0</td>\n",
       "      <td>9.2101</td>\n",
       "      <td>2.107358</td>\n",
       "    </tr>\n",
       "  </tbody>\n",
       "</table>\n",
       "</div>"
      ],
      "text/plain": [
       "   finalWinPct  focusNum    mean       std\n",
       "0     0.077304       0.0  4.0198  1.917240\n",
       "1     0.091094       1.0  4.7369  1.036185\n",
       "2     0.122044       3.0  6.3463  1.347953\n",
       "3     0.139888       5.0  7.2742  1.607985\n",
       "4     0.152225       7.0  7.9157  1.788405\n",
       "5     0.162546       9.0  8.4524  1.907861\n",
       "6     0.169854      11.0  8.8324  2.023292\n",
       "7     0.177117      13.0  9.2101  2.107358"
      ]
     },
     "execution_count": 112,
     "metadata": {},
     "output_type": "execute_result"
    }
   ],
   "source": [
    "df"
   ]
  },
  {
   "cell_type": "code",
   "execution_count": 126,
   "metadata": {},
   "outputs": [
    {
     "data": {
      "image/png": "[encoded data removed]",
      "text/plain": [
       "<Figure size 864x432 with 1 Axes>"
      ]
     },
     "metadata": {
      "needs_background": "light"
     },
     "output_type": "display_data"
    }
   ],
   "source": [
    "fig, ax = plt.subplots(figsize=(12,6))\n",
    "x = [0, 1, 3, 5, 7, 9, 11, 13]\n",
    "ax.plot(x, df[\"mean\"])\n",
    "ax.grid('both')\n",
    "ax.set_xlabel(\"# of Cards Focused On\")\n",
    "ax.set_ylabel(\"Final Score\")\n",
    "ax.set_title(\"Diminishing Marginal Returns in Expanding Focus\")\n",
    "ax.set_xticks(range(14))\n",
    "fig.savefig(\"diminishingMarg.png\")"
   ]
  },
  {
   "cell_type": "code",
   "execution_count": 94,
   "metadata": {
    "scrolled": true
   },
   "outputs": [
    {
     "name": "stdout",
     "output_type": "stream",
     "text": [
      "<function smartGuess at 0x1a0e5bad08>: \n",
      "    (min, max) = (12, 12)\n",
      "    mean = 12.0\n",
      "    std = 0.0\n",
      "CPU times: user 10.7 ms, sys: 548 µs, total: 11.3 ms\n",
      "Wall time: 11 ms\n"
     ]
    }
   ],
   "source": [
    "%%time\n",
    "scoresBest = runGame(1, smartGuess, 13)"
   ]
  },
  {
   "cell_type": "code",
   "execution_count": 95,
   "metadata": {},
   "outputs": [
    {
     "data": {
      "image/png": "[encoded data removed]",
      "text/plain": [
       "<Figure size 576x432 with 1 Axes>"
      ]
     },
     "metadata": {
      "needs_background": "light"
     },
     "output_type": "display_data"
    }
   ],
   "source": [
    "plotOneScore(scoresBest, \"score2.png\")"
   ]
  },
  {
   "cell_type": "code",
   "execution_count": 11,
   "metadata": {
    "scrolled": false
   },
   "outputs": [
    {
     "name": "stdout",
     "output_type": "stream",
     "text": [
      "<function smartGuess at 0x1a0e5bad08>: \n",
      "    (min, max) = (4, 19)\n",
      "    mean = 9.2209\n",
      "    std = 2.117192289330376\n",
      "CPU times: user 40.3 s, sys: 4.25 s, total: 44.6 s\n",
      "Wall time: 46.2 s\n"
     ]
    }
   ],
   "source": [
    "%%time\n",
    "df13 = runGame(10000, smartGuess, 13)"
   ]
  },
  {
   "cell_type": "code",
   "execution_count": 69,
   "metadata": {},
   "outputs": [
    {
     "name": "stdout",
     "output_type": "stream",
     "text": [
      "<function smartGuess at 0x1a0e5bad08>: \n",
      "    (min, max) = (4, 12)\n",
      "    mean = 5.686\n",
      "    std = 1.1635308332829002\n"
     ]
    }
   ],
   "source": [
    "df2 = runGame(10000, smartGuess, 2)"
   ]
  },
  {
   "cell_type": "code",
   "execution_count": 60,
   "metadata": {},
   "outputs": [
    {
     "name": "stdout",
     "output_type": "stream",
     "text": [
      "<function randomGuess at 0x1a0e5baae8>: \n",
      "    (min, max) = (0, 12)\n",
      "    mean = 3.9875\n",
      "    std = 1.9370967322258328\n",
      "<function randomGuess at 0x1a0e5baae8>: \n",
      "    (min, max) = (0, 12)\n",
      "    mean = 4.0187\n",
      "    std = 1.9563614977810209\n",
      "<function smartGuess at 0x1a0e5bad08>: \n",
      "    (min, max) = (4, 13)\n",
      "    mean = 7.2652\n",
      "    std = 1.5862751841972436\n",
      "<function smartGuess at 0x1a0e5bad08>: \n",
      "    (min, max) = (4, 18)\n",
      "    mean = 8.6318\n",
      "    std = 1.97646876018823\n",
      "CPU times: user 2min 17s, sys: 18.3 s, total: 2min 35s\n",
      "Wall time: 2min 39s\n"
     ]
    }
   ],
   "source": [
    "%%time\n",
    "df0 = runGame(10000, randomGuess, 1)\n",
    "df2 = runGame(10000, randomGuess, 2)\n",
    "df5 = runGame(10000, smartGuess, 5)\n",
    "df10 = runGame(10000, smartGuess, 10)"
   ]
  },
  {
   "cell_type": "code",
   "execution_count": 88,
   "metadata": {},
   "outputs": [
    {
     "data": {
      "image/png": "[encoded data removed]",
      "text/plain": [
       "<Figure size 576x432 with 1 Axes>"
      ]
     },
     "metadata": {
      "needs_background": "light"
     },
     "output_type": "display_data"
    }
   ],
   "source": [
    "plotManyScores([df0, df2, df5, df10, df13], [\"Random Guess\", \"Focusing 2\", \"Focusing 5\", \"Focusing 10\", \"Best Strategy\"], \"comparingAvgScores.png\")"
   ]
  },
  {
   "cell_type": "code",
   "execution_count": 89,
   "metadata": {
    "scrolled": false
   },
   "outputs": [
    {
     "data": {
      "image/png": "[encoded data removed]",
      "text/plain": [
       "<Figure size 576x432 with 1 Axes>"
      ]
     },
     "metadata": {
      "needs_background": "light"
     },
     "output_type": "display_data"
    }
   ],
   "source": [
    "plotScores(df13, \"averageBestScores.png\")"
   ]
  },
  {
   "cell_type": "code",
   "execution_count": 124,
   "metadata": {},
   "outputs": [
    {
     "name": "stdout",
     "output_type": "stream",
     "text": [
      "<function smartGuess at 0x1a0e5bad08>: \n",
      "    (min, max) = (4, 12)\n",
      "    mean = 4.7342\n",
      "    std = 1.041129367561976\n",
      "CPU times: user 34.1 s, sys: 4.39 s, total: 38.4 s\n",
      "Wall time: 39.3 s\n"
     ]
    }
   ],
   "source": [
    "%%time\n",
    "realistic = runGame(10000, smartGuess, 1)"
   ]
  },
  {
   "cell_type": "code",
   "execution_count": 125,
   "metadata": {},
   "outputs": [
    {
     "data": {
      "image/png": "[encoded data removed]",
      "text/plain": [
       "<Figure size 864x432 with 1 Axes>"
      ]
     },
     "metadata": {
      "needs_background": "light"
     },
     "output_type": "display_data"
    }
   ],
   "source": [
    "plotManyHist([realistic], \"realisticHist.png\")"
   ]
  },
  {
   "cell_type": "code",
   "execution_count": 12,
   "metadata": {
    "scrolled": false
   },
   "outputs": [
    {
     "data": {
      "image/png": "[encoded data removed]",
      "text/plain": [
       "<Figure size 864x432 with 1 Axes>"
      ]
     },
     "metadata": {
      "needs_background": "light"
     },
     "output_type": "display_data"
    }
   ],
   "source": [
    "plotManyHist([df13], \"best.png\")"
   ]
  },
  {
   "cell_type": "code",
   "execution_count": null,
   "metadata": {},
   "outputs": [],
   "source": [
    "%%time\n",
    "df = runGame(10000, realisticGuess, 1)"
   ]
  },
  {
   "cell_type": "code",
   "execution_count": null,
   "metadata": {
    "scrolled": false
   },
   "outputs": [],
   "source": [
    "plotHist(df, \"realistic.png\")"
   ]
  },
  {
   "cell_type": "code",
   "execution_count": null,
   "metadata": {},
   "outputs": [],
   "source": [
    "plotScores(df)"
   ]
  },
  {
   "cell_type": "code",
   "execution_count": null,
   "metadata": {},
   "outputs": [],
   "source": []
  },
  {
   "cell_type": "code",
   "execution_count": null,
   "metadata": {},
   "outputs": [],
   "source": [
    "%%time\n",
    "df, data1, data3, data5, data7, data9, data11, data13 = makeTrials(10000)"
   ]
  },
  {
   "cell_type": "code",
   "execution_count": null,
   "metadata": {
    "scrolled": true
   },
   "outputs": [],
   "source": [
    "df"
   ]
  },
  {
   "cell_type": "code",
   "execution_count": null,
   "metadata": {},
   "outputs": [],
   "source": [
    "# plt.plot(df['mean'])\n",
    "# plt.plot(df['std'])\n",
    "plt.plot(df['finalWinPct'])"
   ]
  },
  {
   "cell_type": "code",
   "execution_count": null,
   "metadata": {},
   "outputs": [],
   "source": [
    "df['finalWinPct']"
   ]
  },
  {
   "cell_type": "code",
   "execution_count": null,
   "metadata": {},
   "outputs": [],
   "source": [
    "df = makeTrials(100)"
   ]
  },
  {
   "cell_type": "code",
   "execution_count": null,
   "metadata": {},
   "outputs": [],
   "source": [
    "df[0]"
   ]
  },
  {
   "cell_type": "code",
   "execution_count": null,
   "metadata": {},
   "outputs": [],
   "source": [
    "plotGame([realisticData, smartData1, smartData13, bestData])"
   ]
  },
  {
   "cell_type": "code",
   "execution_count": null,
   "metadata": {},
   "outputs": [],
   "source": []
  },
  {
   "cell_type": "code",
   "execution_count": null,
   "metadata": {},
   "outputs": [],
   "source": [
    "%%time\n",
    "bestData = runGame(10000, bestGuess)"
   ]
  },
  {
   "cell_type": "code",
   "execution_count": null,
   "metadata": {},
   "outputs": [],
   "source": [
    "%%time\n",
    "randomData = runGame(10000, randomGuess)"
   ]
  },
  {
   "cell_type": "code",
   "execution_count": null,
   "metadata": {},
   "outputs": [],
   "source": [
    "%%time\n",
    "realisticData = runGame(10000, realisticGuess)"
   ]
  },
  {
   "cell_type": "code",
   "execution_count": null,
   "metadata": {},
   "outputs": [],
   "source": [
    "%%time\n",
    "constantData = runGame(10000, constantGuess)"
   ]
  },
  {
   "cell_type": "code",
   "execution_count": null,
   "metadata": {},
   "outputs": [],
   "source": []
  },
  {
   "cell_type": "code",
   "execution_count": null,
   "metadata": {},
   "outputs": [],
   "source": [
    "type(list(x[51]))"
   ]
  },
  {
   "cell_type": "code",
   "execution_count": null,
   "metadata": {},
   "outputs": [],
   "source": [
    "def times(x, y):\n",
    "    return x*y\n",
    "\n",
    "def add(x, y):\n",
    "    return x+y\n",
    "\n",
    "def chooseFunction(operator, p1, p2):\n",
    "    return operator(p1,p2)"
   ]
  },
  {
   "cell_type": "code",
   "execution_count": null,
   "metadata": {},
   "outputs": [],
   "source": [
    "chooseFunction(times, 2, 3)"
   ]
  },
  {
   "cell_type": "code",
   "execution_count": null,
   "metadata": {
    "scrolled": false
   },
   "outputs": [],
   "source": [
    "%%time\n",
    "x = Game(10000, bestGuess)"
   ]
  },
  {
   "cell_type": "code",
   "execution_count": null,
   "metadata": {},
   "outputs": [],
   "source": []
  },
  {
   "cell_type": "code",
   "execution_count": null,
   "metadata": {},
   "outputs": [],
   "source": [
    "x[0].mean()"
   ]
  },
  {
   "cell_type": "code",
   "execution_count": null,
   "metadata": {},
   "outputs": [],
   "source": [
    "columns"
   ]
  },
  {
   "cell_type": "code",
   "execution_count": null,
   "metadata": {},
   "outputs": [],
   "source": [
    "df4"
   ]
  },
  {
   "cell_type": "code",
   "execution_count": null,
   "metadata": {},
   "outputs": [],
   "source": [
    "plt.plot(x.mean())"
   ]
  },
  {
   "cell_type": "code",
   "execution_count": null,
   "metadata": {
    "scrolled": true
   },
   "outputs": [],
   "source": [
    "import pandas as pd\n",
    "columns = range(6)\n",
    "data = [0, 0, 1, 1, 1, 2]\n",
    "df = pd.DataFrame(columns=columns)\n",
    "df"
   ]
  },
  {
   "cell_type": "code",
   "execution_count": null,
   "metadata": {},
   "outputs": [],
   "source": [
    "row = pd.Series(data, index=columns)\n",
    "row2 = pd.Series([0,1,2, 2, 2, 2], index=columns)"
   ]
  },
  {
   "cell_type": "code",
   "execution_count": null,
   "metadata": {},
   "outputs": [],
   "source": [
    "df = df.append(row, ignore_index=True)\n",
    "df = df.append(row2, ignore_index=True)\n",
    "df"
   ]
  },
  {
   "cell_type": "code",
   "execution_count": null,
   "metadata": {},
   "outputs": [],
   "source": []
  },
  {
   "cell_type": "code",
   "execution_count": null,
   "metadata": {},
   "outputs": [],
   "source": [
    "data2 = [0, 1, 2, 3, 4, 5]\n",
    "df2 = pd.DataFrame(data2)\n",
    "df2 = df2.transpose()\n",
    "df2"
   ]
  },
  {
   "cell_type": "code",
   "execution_count": null,
   "metadata": {},
   "outputs": [],
   "source": [
    "df3 = df.append(df2)\n",
    "df3"
   ]
  },
  {
   "cell_type": "code",
   "execution_count": null,
   "metadata": {},
   "outputs": [],
   "source": [
    "row = pd.Series([0,1,2])\n",
    "row2 = pd.Series([0])\n",
    "df.append(row, ignore_index=True)\n",
    "df.append(row2, ignore_index=True)"
   ]
  },
  {
   "cell_type": "code",
   "execution_count": null,
   "metadata": {},
   "outputs": [],
   "source": [
    "df.append(row2, ignore_index=True)"
   ]
  },
  {
   "cell_type": "code",
   "execution_count": null,
   "metadata": {},
   "outputs": [],
   "source": [
    "deck = Deck()\n",
    "deck.shuffle()\n",
    "deck.show()"
   ]
  },
  {
   "cell_type": "code",
   "execution_count": null,
   "metadata": {},
   "outputs": [],
   "source": [
    "deck.show()"
   ]
  },
  {
   "cell_type": "code",
   "execution_count": null,
   "metadata": {},
   "outputs": [],
   "source": [
    "deck.drawCard()"
   ]
  },
  {
   "cell_type": "code",
   "execution_count": null,
   "metadata": {},
   "outputs": [],
   "source": [
    "deck.show()"
   ]
  },
  {
   "cell_type": "code",
   "execution_count": null,
   "metadata": {},
   "outputs": [],
   "source": []
  }
 ],
 "metadata": {
  "kernelspec": {
   "display_name": "Python 3",
   "language": "python",
   "name": "python3"
  },
  "language_info": {
   "codemirror_mode": {
    "name": "ipython",
    "version": 3
   },
   "file_extension": ".py",
   "mimetype": "text/x-python",
   "name": "python",
   "nbconvert_exporter": "python",
   "pygments_lexer": "ipython3",
   "version": "3.7.3"
  }
 },
 "nbformat": 4,
 "nbformat_minor": 2
}
